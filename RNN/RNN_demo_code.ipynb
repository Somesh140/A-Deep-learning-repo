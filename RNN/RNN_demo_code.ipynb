{
  "nbformat": 4,
  "nbformat_minor": 0,
  "metadata": {
    "colab": {
      "provenance": [],
      "authorship_tag": "ABX9TyO9Sxk+CphNc79t4Me96ZJ+",
      "include_colab_link": true
    },
    "kernelspec": {
      "name": "python3",
      "display_name": "Python 3"
    },
    "language_info": {
      "name": "python"
    },
    "accelerator": "GPU",
    "gpuClass": "standard"
  },
  "cells": [
    {
      "cell_type": "markdown",
      "metadata": {
        "id": "view-in-github",
        "colab_type": "text"
      },
      "source": [
        "<a href=\"https://colab.research.google.com/github/Somesh140/ANN/blob/main/RNN/RNN_demo_code.ipynb\" target=\"_parent\"><img src=\"https://colab.research.google.com/assets/colab-badge.svg\" alt=\"Open In Colab\"/></a>"
      ]
    },
    {
      "cell_type": "markdown",
      "source": [
        "## how to do integer encoding"
      ],
      "metadata": {
        "id": "zwq-Nqix4eLn"
      }
    },
    {
      "cell_type": "code",
      "execution_count": 1,
      "metadata": {
        "id": "Nla2gXyF4WUD"
      },
      "outputs": [],
      "source": [
        "import numpy as np"
      ]
    },
    {
      "cell_type": "code",
      "source": [
        "docs = ['recurrent neural network',\n",
        "\t\t'neural network',\n",
        "\t\t'artificial neural',\n",
        "\t\t'connections between nodes',\n",
        "\t\t'can create a cycle',\n",
        "\t\t'allowing output',\n",
        "\t\t'some nodes to affect subsequent',\n",
        "\t\t'exhibit temporal',\n",
        "\t\t'dynamic behavior',\n",
        "\t\t'type of Neural Network',\n",
        "    'affect subsequent']"
      ],
      "metadata": {
        "id": "thr9Ubnk45mD"
      },
      "execution_count": 2,
      "outputs": []
    },
    {
      "cell_type": "code",
      "source": [
        "from keras.preprocessing.text import Tokenizer\n",
        "tokenizer = Tokenizer(oov_token='<nothing>')"
      ],
      "metadata": {
        "id": "R7LZ3Ycl49Sb"
      },
      "execution_count": 3,
      "outputs": []
    },
    {
      "cell_type": "code",
      "source": [
        "tokenizer.fit_on_texts(docs)"
      ],
      "metadata": {
        "id": "5vtRdgps7CdB"
      },
      "execution_count": 4,
      "outputs": []
    },
    {
      "cell_type": "code",
      "source": [
        "tokenizer.word_index"
      ],
      "metadata": {
        "colab": {
          "base_uri": "https://localhost:8080/"
        },
        "id": "et3lN5ED7HqI",
        "outputId": "b6e75f65-3d2b-464c-e8cc-e549ffbbc2a8"
      },
      "execution_count": 5,
      "outputs": [
        {
          "output_type": "execute_result",
          "data": {
            "text/plain": [
              "{'<nothing>': 1,\n",
              " 'neural': 2,\n",
              " 'network': 3,\n",
              " 'nodes': 4,\n",
              " 'affect': 5,\n",
              " 'subsequent': 6,\n",
              " 'recurrent': 7,\n",
              " 'artificial': 8,\n",
              " 'connections': 9,\n",
              " 'between': 10,\n",
              " 'can': 11,\n",
              " 'create': 12,\n",
              " 'a': 13,\n",
              " 'cycle': 14,\n",
              " 'allowing': 15,\n",
              " 'output': 16,\n",
              " 'some': 17,\n",
              " 'to': 18,\n",
              " 'exhibit': 19,\n",
              " 'temporal': 20,\n",
              " 'dynamic': 21,\n",
              " 'behavior': 22,\n",
              " 'type': 23,\n",
              " 'of': 24}"
            ]
          },
          "metadata": {},
          "execution_count": 5
        }
      ]
    },
    {
      "cell_type": "code",
      "source": [
        "tokenizer.word_counts"
      ],
      "metadata": {
        "colab": {
          "base_uri": "https://localhost:8080/"
        },
        "id": "-flW-7rS9rVX",
        "outputId": "122a33bf-3660-48a2-f1c7-d4e065beccb9"
      },
      "execution_count": 6,
      "outputs": [
        {
          "output_type": "execute_result",
          "data": {
            "text/plain": [
              "OrderedDict([('recurrent', 1),\n",
              "             ('neural', 4),\n",
              "             ('network', 3),\n",
              "             ('artificial', 1),\n",
              "             ('connections', 1),\n",
              "             ('between', 1),\n",
              "             ('nodes', 2),\n",
              "             ('can', 1),\n",
              "             ('create', 1),\n",
              "             ('a', 1),\n",
              "             ('cycle', 1),\n",
              "             ('allowing', 1),\n",
              "             ('output', 1),\n",
              "             ('some', 1),\n",
              "             ('to', 1),\n",
              "             ('affect', 2),\n",
              "             ('subsequent', 2),\n",
              "             ('exhibit', 1),\n",
              "             ('temporal', 1),\n",
              "             ('dynamic', 1),\n",
              "             ('behavior', 1),\n",
              "             ('type', 1),\n",
              "             ('of', 1)])"
            ]
          },
          "metadata": {},
          "execution_count": 6
        }
      ]
    },
    {
      "cell_type": "code",
      "source": [
        "tokenizer.document_count"
      ],
      "metadata": {
        "colab": {
          "base_uri": "https://localhost:8080/"
        },
        "id": "Yvq1vilU-r0u",
        "outputId": "17d3ca94-88f0-4a4a-d1b2-8eff93856311"
      },
      "execution_count": 7,
      "outputs": [
        {
          "output_type": "execute_result",
          "data": {
            "text/plain": [
              "11"
            ]
          },
          "metadata": {},
          "execution_count": 7
        }
      ]
    },
    {
      "cell_type": "code",
      "source": [
        "sequences = tokenizer.texts_to_sequences(docs)\n",
        "sequences"
      ],
      "metadata": {
        "colab": {
          "base_uri": "https://localhost:8080/"
        },
        "id": "tyoJP3rF-zz7",
        "outputId": "63af5945-79d2-4e23-adc8-b0bdf288438d"
      },
      "execution_count": 8,
      "outputs": [
        {
          "output_type": "execute_result",
          "data": {
            "text/plain": [
              "[[7, 2, 3],\n",
              " [2, 3],\n",
              " [8, 2],\n",
              " [9, 10, 4],\n",
              " [11, 12, 13, 14],\n",
              " [15, 16],\n",
              " [17, 4, 18, 5, 6],\n",
              " [19, 20],\n",
              " [21, 22],\n",
              " [23, 24, 2, 3],\n",
              " [5, 6]]"
            ]
          },
          "metadata": {},
          "execution_count": 8
        }
      ]
    },
    {
      "cell_type": "code",
      "source": [
        "from keras.utils import pad_sequences"
      ],
      "metadata": {
        "id": "eW0T2Ccb_rdN"
      },
      "execution_count": 9,
      "outputs": []
    },
    {
      "cell_type": "code",
      "source": [
        "sequences = pad_sequences(sequences,padding='post')"
      ],
      "metadata": {
        "id": "bVg0Eodp_663"
      },
      "execution_count": 10,
      "outputs": []
    },
    {
      "cell_type": "code",
      "source": [
        "sequences"
      ],
      "metadata": {
        "colab": {
          "base_uri": "https://localhost:8080/"
        },
        "id": "zKFcvOvOCmyc",
        "outputId": "2725b104-144e-4f20-a759-b75bf106a866"
      },
      "execution_count": 11,
      "outputs": [
        {
          "output_type": "execute_result",
          "data": {
            "text/plain": [
              "array([[ 7,  2,  3,  0,  0],\n",
              "       [ 2,  3,  0,  0,  0],\n",
              "       [ 8,  2,  0,  0,  0],\n",
              "       [ 9, 10,  4,  0,  0],\n",
              "       [11, 12, 13, 14,  0],\n",
              "       [15, 16,  0,  0,  0],\n",
              "       [17,  4, 18,  5,  6],\n",
              "       [19, 20,  0,  0,  0],\n",
              "       [21, 22,  0,  0,  0],\n",
              "       [23, 24,  2,  3,  0],\n",
              "       [ 5,  6,  0,  0,  0]], dtype=int32)"
            ]
          },
          "metadata": {},
          "execution_count": 11
        }
      ]
    },
    {
      "cell_type": "markdown",
      "source": [
        "## Sentiment Analysis"
      ],
      "metadata": {
        "id": "JsUiUYGaEPok"
      }
    },
    {
      "cell_type": "code",
      "source": [
        "from keras.datasets import imdb\n",
        "from keras import Sequential \n",
        "from keras.layers import Dense,SimpleRNN, Flatten"
      ],
      "metadata": {
        "id": "s7Y7HdMREPDN"
      },
      "execution_count": 12,
      "outputs": []
    },
    {
      "cell_type": "code",
      "source": [
        "(X_train,y_train),(X_test,y_test)=imdb.load_data()"
      ],
      "metadata": {
        "colab": {
          "base_uri": "https://localhost:8080/"
        },
        "id": "iz3dapW_CtfV",
        "outputId": "293f4d7d-170f-4915-bfc3-91078b7e3a76"
      },
      "execution_count": 13,
      "outputs": [
        {
          "output_type": "stream",
          "name": "stdout",
          "text": [
            "Downloading data from https://storage.googleapis.com/tensorflow/tf-keras-datasets/imdb.npz\n",
            "17464789/17464789 [==============================] - 0s 0us/step\n"
          ]
        }
      ]
    },
    {
      "cell_type": "code",
      "source": [
        "X_train.shape"
      ],
      "metadata": {
        "colab": {
          "base_uri": "https://localhost:8080/"
        },
        "id": "6raCXwUPEuhT",
        "outputId": "261b356d-ac6e-458d-db03-5580815c8096"
      },
      "execution_count": 14,
      "outputs": [
        {
          "output_type": "execute_result",
          "data": {
            "text/plain": [
              "(25000,)"
            ]
          },
          "metadata": {},
          "execution_count": 14
        }
      ]
    },
    {
      "cell_type": "code",
      "source": [
        "X_test.shape"
      ],
      "metadata": {
        "colab": {
          "base_uri": "https://localhost:8080/"
        },
        "id": "Tly8-wzTE0Mq",
        "outputId": "cb656f90-17f0-4445-fbb8-6094fe5b057a"
      },
      "execution_count": 15,
      "outputs": [
        {
          "output_type": "execute_result",
          "data": {
            "text/plain": [
              "(25000,)"
            ]
          },
          "metadata": {},
          "execution_count": 15
        }
      ]
    },
    {
      "cell_type": "code",
      "source": [
        "y_train"
      ],
      "metadata": {
        "colab": {
          "base_uri": "https://localhost:8080/"
        },
        "id": "4BkqIgY0E9Jo",
        "outputId": "f7428611-91a2-4004-bbe8-d9eb40951bac"
      },
      "execution_count": 16,
      "outputs": [
        {
          "output_type": "execute_result",
          "data": {
            "text/plain": [
              "array([1, 0, 0, ..., 0, 1, 0])"
            ]
          },
          "metadata": {},
          "execution_count": 16
        }
      ]
    },
    {
      "cell_type": "code",
      "source": [
        "X_train[0]"
      ],
      "metadata": {
        "colab": {
          "base_uri": "https://localhost:8080/"
        },
        "id": "hATM2J1XFD7H",
        "outputId": "834d64fd-f6d0-482c-e899-8765c3168618"
      },
      "execution_count": 17,
      "outputs": [
        {
          "output_type": "execute_result",
          "data": {
            "text/plain": [
              "[1,\n",
              " 14,\n",
              " 22,\n",
              " 16,\n",
              " 43,\n",
              " 530,\n",
              " 973,\n",
              " 1622,\n",
              " 1385,\n",
              " 65,\n",
              " 458,\n",
              " 4468,\n",
              " 66,\n",
              " 3941,\n",
              " 4,\n",
              " 173,\n",
              " 36,\n",
              " 256,\n",
              " 5,\n",
              " 25,\n",
              " 100,\n",
              " 43,\n",
              " 838,\n",
              " 112,\n",
              " 50,\n",
              " 670,\n",
              " 22665,\n",
              " 9,\n",
              " 35,\n",
              " 480,\n",
              " 284,\n",
              " 5,\n",
              " 150,\n",
              " 4,\n",
              " 172,\n",
              " 112,\n",
              " 167,\n",
              " 21631,\n",
              " 336,\n",
              " 385,\n",
              " 39,\n",
              " 4,\n",
              " 172,\n",
              " 4536,\n",
              " 1111,\n",
              " 17,\n",
              " 546,\n",
              " 38,\n",
              " 13,\n",
              " 447,\n",
              " 4,\n",
              " 192,\n",
              " 50,\n",
              " 16,\n",
              " 6,\n",
              " 147,\n",
              " 2025,\n",
              " 19,\n",
              " 14,\n",
              " 22,\n",
              " 4,\n",
              " 1920,\n",
              " 4613,\n",
              " 469,\n",
              " 4,\n",
              " 22,\n",
              " 71,\n",
              " 87,\n",
              " 12,\n",
              " 16,\n",
              " 43,\n",
              " 530,\n",
              " 38,\n",
              " 76,\n",
              " 15,\n",
              " 13,\n",
              " 1247,\n",
              " 4,\n",
              " 22,\n",
              " 17,\n",
              " 515,\n",
              " 17,\n",
              " 12,\n",
              " 16,\n",
              " 626,\n",
              " 18,\n",
              " 19193,\n",
              " 5,\n",
              " 62,\n",
              " 386,\n",
              " 12,\n",
              " 8,\n",
              " 316,\n",
              " 8,\n",
              " 106,\n",
              " 5,\n",
              " 4,\n",
              " 2223,\n",
              " 5244,\n",
              " 16,\n",
              " 480,\n",
              " 66,\n",
              " 3785,\n",
              " 33,\n",
              " 4,\n",
              " 130,\n",
              " 12,\n",
              " 16,\n",
              " 38,\n",
              " 619,\n",
              " 5,\n",
              " 25,\n",
              " 124,\n",
              " 51,\n",
              " 36,\n",
              " 135,\n",
              " 48,\n",
              " 25,\n",
              " 1415,\n",
              " 33,\n",
              " 6,\n",
              " 22,\n",
              " 12,\n",
              " 215,\n",
              " 28,\n",
              " 77,\n",
              " 52,\n",
              " 5,\n",
              " 14,\n",
              " 407,\n",
              " 16,\n",
              " 82,\n",
              " 10311,\n",
              " 8,\n",
              " 4,\n",
              " 107,\n",
              " 117,\n",
              " 5952,\n",
              " 15,\n",
              " 256,\n",
              " 4,\n",
              " 31050,\n",
              " 7,\n",
              " 3766,\n",
              " 5,\n",
              " 723,\n",
              " 36,\n",
              " 71,\n",
              " 43,\n",
              " 530,\n",
              " 476,\n",
              " 26,\n",
              " 400,\n",
              " 317,\n",
              " 46,\n",
              " 7,\n",
              " 4,\n",
              " 12118,\n",
              " 1029,\n",
              " 13,\n",
              " 104,\n",
              " 88,\n",
              " 4,\n",
              " 381,\n",
              " 15,\n",
              " 297,\n",
              " 98,\n",
              " 32,\n",
              " 2071,\n",
              " 56,\n",
              " 26,\n",
              " 141,\n",
              " 6,\n",
              " 194,\n",
              " 7486,\n",
              " 18,\n",
              " 4,\n",
              " 226,\n",
              " 22,\n",
              " 21,\n",
              " 134,\n",
              " 476,\n",
              " 26,\n",
              " 480,\n",
              " 5,\n",
              " 144,\n",
              " 30,\n",
              " 5535,\n",
              " 18,\n",
              " 51,\n",
              " 36,\n",
              " 28,\n",
              " 224,\n",
              " 92,\n",
              " 25,\n",
              " 104,\n",
              " 4,\n",
              " 226,\n",
              " 65,\n",
              " 16,\n",
              " 38,\n",
              " 1334,\n",
              " 88,\n",
              " 12,\n",
              " 16,\n",
              " 283,\n",
              " 5,\n",
              " 16,\n",
              " 4472,\n",
              " 113,\n",
              " 103,\n",
              " 32,\n",
              " 15,\n",
              " 16,\n",
              " 5345,\n",
              " 19,\n",
              " 178,\n",
              " 32]"
            ]
          },
          "metadata": {},
          "execution_count": 17
        }
      ]
    },
    {
      "cell_type": "code",
      "source": [
        "print(len(X_train[2]))\n",
        "print(len(X_train[3]))"
      ],
      "metadata": {
        "colab": {
          "base_uri": "https://localhost:8080/"
        },
        "id": "0NpUom57GO3j",
        "outputId": "da1afd70-6e97-49e4-8a87-5b26da19face"
      },
      "execution_count": 18,
      "outputs": [
        {
          "output_type": "stream",
          "name": "stdout",
          "text": [
            "141\n",
            "550\n"
          ]
        }
      ]
    },
    {
      "cell_type": "code",
      "source": [
        "X_train = pad_sequences(X_train,padding='post',maxlen=50)\n",
        "X_test = pad_sequences(X_test,padding='post',maxlen=50)"
      ],
      "metadata": {
        "id": "BDC985oZGSDi"
      },
      "execution_count": 19,
      "outputs": []
    },
    {
      "cell_type": "code",
      "source": [
        "X_train.shape"
      ],
      "metadata": {
        "colab": {
          "base_uri": "https://localhost:8080/"
        },
        "id": "D09C4RtDGVUw",
        "outputId": "dbaae4ac-123f-4610-8de9-e16654e28f16"
      },
      "execution_count": 20,
      "outputs": [
        {
          "output_type": "execute_result",
          "data": {
            "text/plain": [
              "(25000, 50)"
            ]
          },
          "metadata": {},
          "execution_count": 20
        }
      ]
    },
    {
      "cell_type": "code",
      "source": [
        "model= Sequential()\n",
        "model.add(SimpleRNN(32,input_shape=(50,1),return_sequences=False)) # number of nodes input_shape=50  and 1 output we need \n",
        "model.add(Dense(1,activation=\"sigmoid\"))\n",
        "\n",
        "model.summary()"
      ],
      "metadata": {
        "colab": {
          "base_uri": "https://localhost:8080/"
        },
        "id": "uUJ8DVHRH5ZB",
        "outputId": "73945742-8913-4374-8f4f-dd05506ce5a6"
      },
      "execution_count": 21,
      "outputs": [
        {
          "output_type": "stream",
          "name": "stdout",
          "text": [
            "Model: \"sequential\"\n",
            "_________________________________________________________________\n",
            " Layer (type)                Output Shape              Param #   \n",
            "=================================================================\n",
            " simple_rnn (SimpleRNN)      (None, 32)                1088      \n",
            "                                                                 \n",
            " dense (Dense)               (None, 1)                 33        \n",
            "                                                                 \n",
            "=================================================================\n",
            "Total params: 1,121\n",
            "Trainable params: 1,121\n",
            "Non-trainable params: 0\n",
            "_________________________________________________________________\n"
          ]
        }
      ]
    },
    {
      "cell_type": "code",
      "source": [
        "model.compile(loss='binary_crossentropy',optimizer='adam',metrics=['accuracy'])\n",
        "\n",
        "model.fit(X_train,y_train,epochs=5,validation_data=(X_test,y_test))"
      ],
      "metadata": {
        "colab": {
          "base_uri": "https://localhost:8080/"
        },
        "id": "9G6aGTqDJE6E",
        "outputId": "00a7b2dc-4bd3-426e-eafe-6eb9112f8836"
      },
      "execution_count": 22,
      "outputs": [
        {
          "output_type": "stream",
          "name": "stdout",
          "text": [
            "Epoch 1/5\n",
            "782/782 [==============================] - 30s 35ms/step - loss: 0.6938 - accuracy: 0.5074 - val_loss: 0.6944 - val_accuracy: 0.5032\n",
            "Epoch 2/5\n",
            "782/782 [==============================] - 29s 37ms/step - loss: 0.6928 - accuracy: 0.5090 - val_loss: 0.6959 - val_accuracy: 0.5021\n",
            "Epoch 3/5\n",
            "782/782 [==============================] - 28s 35ms/step - loss: 0.6929 - accuracy: 0.5053 - val_loss: 0.6942 - val_accuracy: 0.5022\n",
            "Epoch 4/5\n",
            "782/782 [==============================] - 29s 37ms/step - loss: 0.6930 - accuracy: 0.5035 - val_loss: 0.6940 - val_accuracy: 0.5020\n",
            "Epoch 5/5\n",
            "782/782 [==============================] - 27s 35ms/step - loss: 0.6925 - accuracy: 0.5083 - val_loss: 0.6940 - val_accuracy: 0.5069\n"
          ]
        },
        {
          "output_type": "execute_result",
          "data": {
            "text/plain": [
              "<keras.callbacks.History at 0x7f44f96656d0>"
            ]
          },
          "metadata": {},
          "execution_count": 22
        }
      ]
    },
    {
      "cell_type": "code",
      "source": [
        "X_test[0].reshape(1,-1).shape"
      ],
      "metadata": {
        "colab": {
          "base_uri": "https://localhost:8080/"
        },
        "id": "xjQML4Q5JPoT",
        "outputId": "18e133b4-58e8-4b3b-da5b-c588c3a2b6c9"
      },
      "execution_count": 23,
      "outputs": [
        {
          "output_type": "execute_result",
          "data": {
            "text/plain": [
              "(1, 50)"
            ]
          },
          "metadata": {},
          "execution_count": 23
        }
      ]
    },
    {
      "cell_type": "code",
      "source": [
        "pred_test=X_test[0].reshape(1,-1)"
      ],
      "metadata": {
        "id": "PDLALT0vLAaR"
      },
      "execution_count": 24,
      "outputs": []
    },
    {
      "cell_type": "markdown",
      "source": [
        "#Predictions"
      ],
      "metadata": {
        "id": "A3U6cquMLlZS"
      }
    },
    {
      "cell_type": "code",
      "source": [
        "model.predict(pred_test)"
      ],
      "metadata": {
        "colab": {
          "base_uri": "https://localhost:8080/"
        },
        "id": "BQ3ytWX7LN6z",
        "outputId": "302a8b69-0968-47f5-9a85-89bc678f6891"
      },
      "execution_count": 25,
      "outputs": [
        {
          "output_type": "stream",
          "name": "stdout",
          "text": [
            "1/1 [==============================] - 0s 158ms/step\n"
          ]
        },
        {
          "output_type": "execute_result",
          "data": {
            "text/plain": [
              "array([[0.49706683]], dtype=float32)"
            ]
          },
          "metadata": {},
          "execution_count": 25
        }
      ]
    },
    {
      "cell_type": "markdown",
      "source": [
        "# How to do encodings using keras embeddings"
      ],
      "metadata": {
        "id": "9mRHl24aMscO"
      }
    },
    {
      "cell_type": "code",
      "source": [
        "docs = ['recurrent neural network',\n",
        "\t\t'neural network',\n",
        "\t\t'artificial neural',\n",
        "\t\t'connections between nodes',\n",
        "\t\t'can create a cycle',\n",
        "\t\t'allowing output',\n",
        "\t\t'some nodes to affect subsequent',\n",
        "\t\t'exhibit temporal',\n",
        "\t\t'dynamic behavior',\n",
        "\t\t'type of Neural Network',\n",
        "    'affect subsequent']"
      ],
      "metadata": {
        "id": "Ua4fCAHFLRxS"
      },
      "execution_count": 26,
      "outputs": []
    },
    {
      "cell_type": "code",
      "source": [
        "from keras.preprocessing.text import Tokenizer\n",
        "tokenizer = Tokenizer()"
      ],
      "metadata": {
        "id": "UuPQwjSdMwhy"
      },
      "execution_count": 27,
      "outputs": []
    },
    {
      "cell_type": "code",
      "source": [
        "\n",
        "tokenizer.fit_on_texts(docs)"
      ],
      "metadata": {
        "id": "WG8F6vB3M0AN"
      },
      "execution_count": 28,
      "outputs": []
    },
    {
      "cell_type": "code",
      "source": [
        "len(tokenizer.word_index)"
      ],
      "metadata": {
        "colab": {
          "base_uri": "https://localhost:8080/"
        },
        "id": "McecfMkSM5MQ",
        "outputId": "2f7c6e91-3f70-44b3-b930-582a32a50793"
      },
      "execution_count": 29,
      "outputs": [
        {
          "output_type": "execute_result",
          "data": {
            "text/plain": [
              "23"
            ]
          },
          "metadata": {},
          "execution_count": 29
        }
      ]
    },
    {
      "cell_type": "code",
      "source": [
        "sequences = tokenizer.texts_to_sequences(docs)\n",
        "sequences"
      ],
      "metadata": {
        "colab": {
          "base_uri": "https://localhost:8080/"
        },
        "id": "Tg50bOkHM77R",
        "outputId": "7a577368-ae7a-4703-8e1d-07cb3f7dac4e"
      },
      "execution_count": 30,
      "outputs": [
        {
          "output_type": "execute_result",
          "data": {
            "text/plain": [
              "[[6, 1, 2],\n",
              " [1, 2],\n",
              " [7, 1],\n",
              " [8, 9, 3],\n",
              " [10, 11, 12, 13],\n",
              " [14, 15],\n",
              " [16, 3, 17, 4, 5],\n",
              " [18, 19],\n",
              " [20, 21],\n",
              " [22, 23, 1, 2],\n",
              " [4, 5]]"
            ]
          },
          "metadata": {},
          "execution_count": 30
        }
      ]
    },
    {
      "cell_type": "code",
      "source": [
        "sequences = pad_sequences(sequences,padding='post')"
      ],
      "metadata": {
        "id": "xVL9z7SKNiEK"
      },
      "execution_count": 31,
      "outputs": []
    },
    {
      "cell_type": "code",
      "source": [
        "sequences"
      ],
      "metadata": {
        "colab": {
          "base_uri": "https://localhost:8080/"
        },
        "id": "Sna3o7VaNnZH",
        "outputId": "f9e635cd-8f5a-46d5-e78b-91a3657cc141"
      },
      "execution_count": 32,
      "outputs": [
        {
          "output_type": "execute_result",
          "data": {
            "text/plain": [
              "array([[ 6,  1,  2,  0,  0],\n",
              "       [ 1,  2,  0,  0,  0],\n",
              "       [ 7,  1,  0,  0,  0],\n",
              "       [ 8,  9,  3,  0,  0],\n",
              "       [10, 11, 12, 13,  0],\n",
              "       [14, 15,  0,  0,  0],\n",
              "       [16,  3, 17,  4,  5],\n",
              "       [18, 19,  0,  0,  0],\n",
              "       [20, 21,  0,  0,  0],\n",
              "       [22, 23,  1,  2,  0],\n",
              "       [ 4,  5,  0,  0,  0]], dtype=int32)"
            ]
          },
          "metadata": {},
          "execution_count": 32
        }
      ]
    },
    {
      "cell_type": "code",
      "source": [
        "\n",
        "from keras.layers import Dense,SimpleRNN, Flatten, Embedding"
      ],
      "metadata": {
        "id": "eZP7Vg53Nps6"
      },
      "execution_count": 33,
      "outputs": []
    },
    {
      "cell_type": "code",
      "source": [
        "model=Sequential()\n",
        "model.add(Embedding(23, output_dim=2,input_length=5)) # 23 unique number of words in corpus input= length of sequence and output= vector size\n",
        "\n",
        "model.summary()"
      ],
      "metadata": {
        "colab": {
          "base_uri": "https://localhost:8080/"
        },
        "id": "-w4Es6qEOQ-x",
        "outputId": "403a4016-b97f-498c-ce67-c8c8332793ed"
      },
      "execution_count": 34,
      "outputs": [
        {
          "output_type": "stream",
          "name": "stdout",
          "text": [
            "Model: \"sequential_1\"\n",
            "_________________________________________________________________\n",
            " Layer (type)                Output Shape              Param #   \n",
            "=================================================================\n",
            " embedding (Embedding)       (None, 5, 2)              46        \n",
            "                                                                 \n",
            "=================================================================\n",
            "Total params: 46\n",
            "Trainable params: 46\n",
            "Non-trainable params: 0\n",
            "_________________________________________________________________\n"
          ]
        }
      ]
    },
    {
      "cell_type": "code",
      "source": [
        "model.compile('adam','accuracy')"
      ],
      "metadata": {
        "id": "Ru51Agb0OefR"
      },
      "execution_count": 35,
      "outputs": []
    },
    {
      "cell_type": "code",
      "source": [
        "pred = model.predict(sequences)\n",
        "print(pred)"
      ],
      "metadata": {
        "colab": {
          "base_uri": "https://localhost:8080/"
        },
        "id": "CRg9HNKFRBG7",
        "outputId": "c9cf9f6b-10f6-4674-fb72-127c0e9664db"
      },
      "execution_count": 36,
      "outputs": [
        {
          "output_type": "stream",
          "name": "stdout",
          "text": [
            "1/1 [==============================] - 0s 34ms/step\n",
            "[[[ 0.0485648  -0.02692435]\n",
            "  [-0.04356867 -0.03150388]\n",
            "  [ 0.00473595  0.03228357]\n",
            "  [-0.00025254 -0.0050539 ]\n",
            "  [-0.00025254 -0.0050539 ]]\n",
            "\n",
            " [[-0.04356867 -0.03150388]\n",
            "  [ 0.00473595  0.03228357]\n",
            "  [-0.00025254 -0.0050539 ]\n",
            "  [-0.00025254 -0.0050539 ]\n",
            "  [-0.00025254 -0.0050539 ]]\n",
            "\n",
            " [[ 0.02524659  0.02639074]\n",
            "  [-0.04356867 -0.03150388]\n",
            "  [-0.00025254 -0.0050539 ]\n",
            "  [-0.00025254 -0.0050539 ]\n",
            "  [-0.00025254 -0.0050539 ]]\n",
            "\n",
            " [[-0.01560974  0.02050413]\n",
            "  [ 0.03212441 -0.04881437]\n",
            "  [ 0.0243598   0.00817418]\n",
            "  [-0.00025254 -0.0050539 ]\n",
            "  [-0.00025254 -0.0050539 ]]\n",
            "\n",
            " [[ 0.02847226 -0.01211726]\n",
            "  [ 0.00342817 -0.00360014]\n",
            "  [ 0.04415366 -0.04364833]\n",
            "  [ 0.04579074  0.04246366]\n",
            "  [-0.00025254 -0.0050539 ]]\n",
            "\n",
            " [[-0.02703246 -0.0139104 ]\n",
            "  [-0.04539156  0.01432246]\n",
            "  [-0.00025254 -0.0050539 ]\n",
            "  [-0.00025254 -0.0050539 ]\n",
            "  [-0.00025254 -0.0050539 ]]\n",
            "\n",
            " [[ 0.02939792 -0.03735323]\n",
            "  [ 0.0243598   0.00817418]\n",
            "  [ 0.03963698  0.01680607]\n",
            "  [-0.01423074 -0.02770989]\n",
            "  [ 0.00069956 -0.04651573]]\n",
            "\n",
            " [[-0.01525916  0.0030682 ]\n",
            "  [-0.01223268  0.02208977]\n",
            "  [-0.00025254 -0.0050539 ]\n",
            "  [-0.00025254 -0.0050539 ]\n",
            "  [-0.00025254 -0.0050539 ]]\n",
            "\n",
            " [[-0.04232913  0.02671543]\n",
            "  [ 0.04758133 -0.00501047]\n",
            "  [-0.00025254 -0.0050539 ]\n",
            "  [-0.00025254 -0.0050539 ]\n",
            "  [-0.00025254 -0.0050539 ]]\n",
            "\n",
            " [[-0.00077701  0.00126771]\n",
            "  [ 0.          0.        ]\n",
            "  [-0.04356867 -0.03150388]\n",
            "  [ 0.00473595  0.03228357]\n",
            "  [-0.00025254 -0.0050539 ]]\n",
            "\n",
            " [[-0.01423074 -0.02770989]\n",
            "  [ 0.00069956 -0.04651573]\n",
            "  [-0.00025254 -0.0050539 ]\n",
            "  [-0.00025254 -0.0050539 ]\n",
            "  [-0.00025254 -0.0050539 ]]]\n"
          ]
        }
      ]
    },
    {
      "cell_type": "markdown",
      "source": [
        "## Sentiment Analysis using word embeddings"
      ],
      "metadata": {
        "id": "gT39H10YUA96"
      }
    },
    {
      "cell_type": "code",
      "source": [
        "from keras.datasets import imdb\n",
        "from keras.preprocessing.text import Tokenizer\n",
        "from keras.utils import pad_sequences\n",
        "from keras import Sequential\n",
        "from keras.layers import Dense,SimpleRNN,Embedding,Flatten"
      ],
      "metadata": {
        "id": "pzvH_6zdRZw8"
      },
      "execution_count": 37,
      "outputs": []
    },
    {
      "cell_type": "code",
      "source": [
        "(X_train,y_train),(X_test,y_test) = imdb.load_data()"
      ],
      "metadata": {
        "id": "3w6lyKR6UPgR"
      },
      "execution_count": 39,
      "outputs": []
    },
    {
      "cell_type": "code",
      "source": [
        "X_train = pad_sequences(X_train,padding='post',maxlen=50)\n",
        "X_test = pad_sequences(X_test,padding='post',maxlen=50)"
      ],
      "metadata": {
        "id": "4jafEfv5UqjX"
      },
      "execution_count": 40,
      "outputs": []
    },
    {
      "cell_type": "code",
      "source": [
        "X_train.shape"
      ],
      "metadata": {
        "colab": {
          "base_uri": "https://localhost:8080/"
        },
        "id": "XgGrFEPfUvyu",
        "outputId": "d28ed516-fcea-408b-f890-b1e57f5b2841"
      },
      "execution_count": 41,
      "outputs": [
        {
          "output_type": "execute_result",
          "data": {
            "text/plain": [
              "(25000, 50)"
            ]
          },
          "metadata": {},
          "execution_count": 41
        }
      ]
    },
    {
      "cell_type": "code",
      "source": [
        "model = Sequential()\n",
        "model.add(Embedding(10000,output_dim=2,input_length=50))\n",
        "model.add(SimpleRNN(32,return_sequences=False))\n",
        "model.add(Dense(1, activation='sigmoid'))\n",
        "\n",
        "model.summary()"
      ],
      "metadata": {
        "colab": {
          "base_uri": "https://localhost:8080/"
        },
        "id": "UFCvPI5pUx-h",
        "outputId": "4872fbda-626d-43a8-80d2-ee9f6388af8c"
      },
      "execution_count": 42,
      "outputs": [
        {
          "output_type": "stream",
          "name": "stdout",
          "text": [
            "Model: \"sequential_2\"\n",
            "_________________________________________________________________\n",
            " Layer (type)                Output Shape              Param #   \n",
            "=================================================================\n",
            " embedding_1 (Embedding)     (None, 50, 2)             20000     \n",
            "                                                                 \n",
            " simple_rnn_1 (SimpleRNN)    (None, 32)                1120      \n",
            "                                                                 \n",
            " dense_1 (Dense)             (None, 1)                 33        \n",
            "                                                                 \n",
            "=================================================================\n",
            "Total params: 21,153\n",
            "Trainable params: 21,153\n",
            "Non-trainable params: 0\n",
            "_________________________________________________________________\n"
          ]
        }
      ]
    },
    {
      "cell_type": "code",
      "source": [
        "model.compile(optimizer='adam', loss='binary_crossentropy', metrics=['acc'])\n",
        "history = model.fit(X_train, y_train,epochs=5,validation_data=(X_test,y_test))"
      ],
      "metadata": {
        "colab": {
          "base_uri": "https://localhost:8080/"
        },
        "id": "CxEpAxu3V85Z",
        "outputId": "2f411bbd-46b0-40c6-a874-ba35f361c7ec"
      },
      "execution_count": 43,
      "outputs": [
        {
          "output_type": "stream",
          "name": "stdout",
          "text": [
            "Epoch 1/5\n",
            "782/782 [==============================] - 44s 55ms/step - loss: 0.5946 - acc: 0.6512 - val_loss: 0.4470 - val_acc: 0.7947\n",
            "Epoch 2/5\n",
            "782/782 [==============================] - 45s 57ms/step - loss: 0.3869 - acc: 0.8312 - val_loss: 0.4254 - val_acc: 0.8058\n",
            "Epoch 3/5\n",
            "782/782 [==============================] - 44s 56ms/step - loss: 0.3195 - acc: 0.8688 - val_loss: 0.4444 - val_acc: 0.8062\n",
            "Epoch 4/5\n",
            "782/782 [==============================] - 42s 54ms/step - loss: 0.2857 - acc: 0.8872 - val_loss: 0.5129 - val_acc: 0.7965\n",
            "Epoch 5/5\n",
            "782/782 [==============================] - 44s 56ms/step - loss: 0.2580 - acc: 0.9015 - val_loss: 0.4956 - val_acc: 0.7966\n"
          ]
        }
      ]
    },
    {
      "cell_type": "markdown",
      "source": [
        "#Predictions"
      ],
      "metadata": {
        "id": "liMNen1fXW3_"
      }
    },
    {
      "cell_type": "code",
      "source": [
        "test_data = X_test[0][0:50].reshape(1,-1)"
      ],
      "metadata": {
        "id": "HdhF-ZqhWKm4"
      },
      "execution_count": 44,
      "outputs": []
    },
    {
      "cell_type": "code",
      "source": [
        "model.predict(test_data)"
      ],
      "metadata": {
        "colab": {
          "base_uri": "https://localhost:8080/"
        },
        "id": "ub-fprMNXZuB",
        "outputId": "1975e90c-7bcb-4c2e-da30-c574656ea036"
      },
      "execution_count": 45,
      "outputs": [
        {
          "output_type": "stream",
          "name": "stdout",
          "text": [
            "1/1 [==============================] - 0s 131ms/step\n"
          ]
        },
        {
          "output_type": "execute_result",
          "data": {
            "text/plain": [
              "array([[0.19055574]], dtype=float32)"
            ]
          },
          "metadata": {},
          "execution_count": 45
        }
      ]
    },
    {
      "cell_type": "code",
      "source": [],
      "metadata": {
        "id": "2Wqye1R-XcHx"
      },
      "execution_count": null,
      "outputs": []
    }
  ]
}