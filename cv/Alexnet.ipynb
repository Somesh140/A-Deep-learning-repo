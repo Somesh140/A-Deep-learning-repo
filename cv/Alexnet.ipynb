{
  "nbformat": 4,
  "nbformat_minor": 0,
  "metadata": {
    "colab": {
      "provenance": [],
      "toc_visible": true,
      "authorship_tag": "ABX9TyOvEJ9aY/LLQteILXT1wyfL",
      "include_colab_link": true
    },
    "kernelspec": {
      "name": "python3",
      "display_name": "Python 3"
    },
    "language_info": {
      "name": "python"
    },
    "accelerator": "GPU"
  },
  "cells": [
    {
      "cell_type": "markdown",
      "metadata": {
        "id": "view-in-github",
        "colab_type": "text"
      },
      "source": [
        "<a href=\"https://colab.research.google.com/github/Somesh140/ANN/blob/main/cv/Alexnet.ipynb\" target=\"_parent\"><img src=\"https://colab.research.google.com/assets/colab-badge.svg\" alt=\"Open In Colab\"/></a>"
      ]
    },
    {
      "cell_type": "code",
      "execution_count": 1,
      "metadata": {
        "id": "9A5HtN2GSmaD"
      },
      "outputs": [],
      "source": [
        "import tensorflow as tf\n",
        "from tensorflow import keras\n",
        "import keras\n",
        "from keras.models import Sequential\n",
        "from keras.layers import Dense, Activation, Dropout, Flatten, Conv2D, MaxPooling2D\n",
        "from tensorflow.keras.layers import BatchNormalization"
      ]
    },
    {
      "cell_type": "code",
      "source": [
        "!pip install tflearn"
      ],
      "metadata": {
        "colab": {
          "base_uri": "https://localhost:8080/"
        },
        "id": "nUbGpsTsTKUw",
        "outputId": "a044c2b6-cafb-4bae-896c-89a21b3ca39e"
      },
      "execution_count": 2,
      "outputs": [
        {
          "output_type": "stream",
          "name": "stdout",
          "text": [
            "Looking in indexes: https://pypi.org/simple, https://us-python.pkg.dev/colab-wheels/public/simple/\n",
            "Collecting tflearn\n",
            "  Downloading tflearn-0.5.0.tar.gz (107 kB)\n",
            "\u001b[K     |████████████████████████████████| 107 kB 36.8 MB/s \n",
            "\u001b[?25hRequirement already satisfied: numpy in /usr/local/lib/python3.7/dist-packages (from tflearn) (1.21.6)\n",
            "Requirement already satisfied: six in /usr/local/lib/python3.7/dist-packages (from tflearn) (1.15.0)\n",
            "Requirement already satisfied: Pillow in /usr/local/lib/python3.7/dist-packages (from tflearn) (7.1.2)\n",
            "Building wheels for collected packages: tflearn\n",
            "  Building wheel for tflearn (setup.py) ... \u001b[?25l\u001b[?25hdone\n",
            "  Created wheel for tflearn: filename=tflearn-0.5.0-py3-none-any.whl size=127299 sha256=b4cbb46b5734444a90f17cb6fe3fcb1600ead4e559e96f047f8e3a804f956618\n",
            "  Stored in directory: /root/.cache/pip/wheels/5f/14/2e/1d8e28cc47a5a931a2fb82438c9e37ef9246cc6a3774520271\n",
            "Successfully built tflearn\n",
            "Installing collected packages: tflearn\n",
            "Successfully installed tflearn-0.5.0\n"
          ]
        }
      ]
    },
    {
      "cell_type": "code",
      "source": [
        "# Get Data\n",
        "import tflearn.datasets.oxflower17 as oxflower17\n",
        "x, y = oxflower17.load_data(one_hot=True)"
      ],
      "metadata": {
        "colab": {
          "base_uri": "https://localhost:8080/"
        },
        "id": "dPNY8ZDPTSlc",
        "outputId": "327b1cb1-f1a2-4204-f178-1bf5ab4aa6d0"
      },
      "execution_count": 3,
      "outputs": [
        {
          "output_type": "stream",
          "name": "stderr",
          "text": [
            "WARNING:tensorflow:From /usr/local/lib/python3.7/dist-packages/tensorflow/python/compat/v2_compat.py:107: disable_resource_variables (from tensorflow.python.ops.variable_scope) is deprecated and will be removed in a future version.\n",
            "Instructions for updating:\n",
            "non-resource variables are not supported in the long term\n"
          ]
        },
        {
          "output_type": "stream",
          "name": "stdout",
          "text": [
            "Downloading Oxford 17 category Flower Dataset, Please wait...\n"
          ]
        },
        {
          "output_type": "stream",
          "name": "stderr",
          "text": [
            "100.0% 60276736 / 60270631\n"
          ]
        },
        {
          "output_type": "stream",
          "name": "stdout",
          "text": [
            "Succesfully downloaded 17flowers.tgz 60270631 bytes.\n",
            "File Extracted\n",
            "Starting to parse images...\n",
            "Parsing Done!\n"
          ]
        }
      ]
    },
    {
      "cell_type": "code",
      "source": [
        "x"
      ],
      "metadata": {
        "colab": {
          "base_uri": "https://localhost:8080/"
        },
        "id": "soq5jYANTiJv",
        "outputId": "ee165834-7da0-497c-ab30-15f559dac808"
      },
      "execution_count": 4,
      "outputs": [
        {
          "output_type": "execute_result",
          "data": {
            "text/plain": [
              "array([[[[0.05490196, 0.2784314 , 0.10588235],\n",
              "         [0.03529412, 0.24705882, 0.09803922],\n",
              "         [0.04705882, 0.24705882, 0.11372549],\n",
              "         ...,\n",
              "         [0.4745098 , 0.65882355, 0.3764706 ],\n",
              "         [0.3882353 , 0.53333336, 0.3254902 ],\n",
              "         [0.0627451 , 0.20392157, 0.03529412]],\n",
              "\n",
              "        [[0.06666667, 0.27450982, 0.08627451],\n",
              "         [0.05098039, 0.25490198, 0.09019608],\n",
              "         [0.05882353, 0.25490198, 0.10980392],\n",
              "         ...,\n",
              "         [0.4745098 , 0.654902  , 0.3764706 ],\n",
              "         [0.31764707, 0.45882353, 0.25490198],\n",
              "         [0.02352941, 0.16078432, 0.00784314]],\n",
              "\n",
              "        [[0.08627451, 0.26666668, 0.06666667],\n",
              "         [0.0627451 , 0.24705882, 0.0627451 ],\n",
              "         [0.05882353, 0.25490198, 0.08235294],\n",
              "         ...,\n",
              "         [0.47843137, 0.6431373 , 0.3764706 ],\n",
              "         [0.23137255, 0.3647059 , 0.1764706 ],\n",
              "         [0.        , 0.1254902 , 0.        ]],\n",
              "\n",
              "        ...,\n",
              "\n",
              "        [[0.17254902, 0.18039216, 0.11764706],\n",
              "         [0.15686275, 0.1764706 , 0.07843138],\n",
              "         [0.12156863, 0.16862746, 0.02352941],\n",
              "         ...,\n",
              "         [0.1764706 , 0.21960784, 0.13333334],\n",
              "         [0.19215687, 0.20784314, 0.12156863],\n",
              "         [0.19607843, 0.21176471, 0.12156863]],\n",
              "\n",
              "        [[0.15686275, 0.18431373, 0.12156863],\n",
              "         [0.14509805, 0.16862746, 0.04705882],\n",
              "         [0.12941177, 0.14901961, 0.00784314],\n",
              "         ...,\n",
              "         [0.1882353 , 0.22745098, 0.1254902 ],\n",
              "         [0.19607843, 0.21568628, 0.1254902 ],\n",
              "         [0.19607843, 0.21568628, 0.1254902 ]],\n",
              "\n",
              "        [[0.14509805, 0.1764706 , 0.11764706],\n",
              "         [0.12941177, 0.16078432, 0.02745098],\n",
              "         [0.12156863, 0.13333334, 0.        ],\n",
              "         ...,\n",
              "         [0.19215687, 0.22745098, 0.12156863],\n",
              "         [0.19607843, 0.21568628, 0.1254902 ],\n",
              "         [0.19607843, 0.21568628, 0.1254902 ]]],\n",
              "\n",
              "\n",
              "       [[[0.2901961 , 0.27058825, 0.15294118],\n",
              "         [0.2901961 , 0.27058825, 0.15294118],\n",
              "         [0.2901961 , 0.27058825, 0.15294118],\n",
              "         ...,\n",
              "         [0.23921569, 0.25882354, 0.16862746],\n",
              "         [0.23921569, 0.25882354, 0.16862746],\n",
              "         [0.24313726, 0.2627451 , 0.17254902]],\n",
              "\n",
              "        [[0.2901961 , 0.27058825, 0.15294118],\n",
              "         [0.2901961 , 0.27058825, 0.15294118],\n",
              "         [0.2901961 , 0.27058825, 0.15294118],\n",
              "         ...,\n",
              "         [0.23529412, 0.25490198, 0.16470589],\n",
              "         [0.23921569, 0.25882354, 0.16862746],\n",
              "         [0.23921569, 0.25882354, 0.16862746]],\n",
              "\n",
              "        [[0.2901961 , 0.27058825, 0.15294118],\n",
              "         [0.2901961 , 0.27058825, 0.15294118],\n",
              "         [0.2901961 , 0.27058825, 0.15294118],\n",
              "         ...,\n",
              "         [0.23137255, 0.2509804 , 0.16078432],\n",
              "         [0.23529412, 0.25490198, 0.16470589],\n",
              "         [0.23921569, 0.25882354, 0.16862746]],\n",
              "\n",
              "        ...,\n",
              "\n",
              "        [[0.16862746, 0.15686275, 0.08235294],\n",
              "         [0.16470589, 0.15294118, 0.07843138],\n",
              "         [0.16078432, 0.14901961, 0.07450981],\n",
              "         ...,\n",
              "         [0.27450982, 0.32941177, 0.14509805],\n",
              "         [0.27450982, 0.3254902 , 0.14509805],\n",
              "         [0.2784314 , 0.32941177, 0.14901961]],\n",
              "\n",
              "        [[0.16078432, 0.14901961, 0.07450981],\n",
              "         [0.15686275, 0.14509805, 0.07058824],\n",
              "         [0.15294118, 0.14117648, 0.06666667],\n",
              "         ...,\n",
              "         [0.27450982, 0.3254902 , 0.14117648],\n",
              "         [0.27450982, 0.3254902 , 0.14509805],\n",
              "         [0.2784314 , 0.32941177, 0.14901961]],\n",
              "\n",
              "        [[0.16078432, 0.14901961, 0.07450981],\n",
              "         [0.15686275, 0.14509805, 0.07058824],\n",
              "         [0.15294118, 0.14117648, 0.06666667],\n",
              "         ...,\n",
              "         [0.27450982, 0.3254902 , 0.14117648],\n",
              "         [0.27450982, 0.3254902 , 0.14509805],\n",
              "         [0.2784314 , 0.32941177, 0.14901961]]],\n",
              "\n",
              "\n",
              "       [[[0.16078432, 0.28235295, 0.05098039],\n",
              "         [0.16862746, 0.2901961 , 0.05882353],\n",
              "         [0.1764706 , 0.29803923, 0.06666667],\n",
              "         ...,\n",
              "         [0.16470589, 0.24705882, 0.02745098],\n",
              "         [0.16470589, 0.24705882, 0.02745098],\n",
              "         [0.16470589, 0.24705882, 0.02745098]],\n",
              "\n",
              "        [[0.16078432, 0.28235295, 0.04705882],\n",
              "         [0.16862746, 0.2901961 , 0.05490196],\n",
              "         [0.1764706 , 0.29803923, 0.0627451 ],\n",
              "         ...,\n",
              "         [0.17254902, 0.25490198, 0.03529412],\n",
              "         [0.17254902, 0.25490198, 0.03529412],\n",
              "         [0.17254902, 0.25490198, 0.03529412]],\n",
              "\n",
              "        [[0.16078432, 0.28235295, 0.04705882],\n",
              "         [0.16862746, 0.2901961 , 0.05490196],\n",
              "         [0.1764706 , 0.29803923, 0.0627451 ],\n",
              "         ...,\n",
              "         [0.1764706 , 0.25882354, 0.03921569],\n",
              "         [0.1764706 , 0.25882354, 0.03921569],\n",
              "         [0.1764706 , 0.25882354, 0.03921569]],\n",
              "\n",
              "        ...,\n",
              "\n",
              "        [[0.39215687, 0.47843137, 0.19215687],\n",
              "         [0.39215687, 0.4745098 , 0.19607843],\n",
              "         [0.38431373, 0.45490196, 0.21176471],\n",
              "         ...,\n",
              "         [0.02352941, 0.02745098, 0.00392157],\n",
              "         [0.02352941, 0.02745098, 0.01176471],\n",
              "         [0.03921569, 0.03921569, 0.03137255]],\n",
              "\n",
              "        [[0.38431373, 0.47843137, 0.22745098],\n",
              "         [0.3764706 , 0.46666667, 0.21960784],\n",
              "         [0.36078432, 0.45882353, 0.20784314],\n",
              "         ...,\n",
              "         [0.03137255, 0.03529412, 0.01568628],\n",
              "         [0.03137255, 0.03529412, 0.01568628],\n",
              "         [0.04313726, 0.04705882, 0.03137255]],\n",
              "\n",
              "        [[0.39607844, 0.49411765, 0.24313726],\n",
              "         [0.3882353 , 0.48235294, 0.23529412],\n",
              "         [0.37254903, 0.47843137, 0.21568628],\n",
              "         ...,\n",
              "         [0.03529412, 0.03921569, 0.01960784],\n",
              "         [0.03137255, 0.03529412, 0.01568628],\n",
              "         [0.04313726, 0.04705882, 0.02745098]]],\n",
              "\n",
              "\n",
              "       ...,\n",
              "\n",
              "\n",
              "       [[[0.5921569 , 0.5882353 , 0.33333334],\n",
              "         [0.6039216 , 0.6039216 , 0.34117648],\n",
              "         [0.49411765, 0.5019608 , 0.24705882],\n",
              "         ...,\n",
              "         [0.95686275, 0.8235294 , 0.64705884],\n",
              "         [0.9490196 , 0.8156863 , 0.6313726 ],\n",
              "         [0.93333334, 0.79607844, 0.627451  ]],\n",
              "\n",
              "        [[0.56078434, 0.5529412 , 0.30588236],\n",
              "         [0.56078434, 0.56078434, 0.29803923],\n",
              "         [0.4862745 , 0.49411765, 0.22352941],\n",
              "         ...,\n",
              "         [0.9529412 , 0.827451  , 0.64705884],\n",
              "         [0.9490196 , 0.81960785, 0.6392157 ],\n",
              "         [0.9411765 , 0.8039216 , 0.6392157 ]],\n",
              "\n",
              "        [[0.54509807, 0.5372549 , 0.30588236],\n",
              "         [0.5372549 , 0.5372549 , 0.27450982],\n",
              "         [0.4745098 , 0.4862745 , 0.19607843],\n",
              "         ...,\n",
              "         [0.95686275, 0.827451  , 0.65882355],\n",
              "         [0.95686275, 0.827451  , 0.6509804 ],\n",
              "         [0.94509804, 0.80784315, 0.6431373 ]],\n",
              "\n",
              "        ...,\n",
              "\n",
              "        [[0.5058824 , 0.35686275, 0.29803923],\n",
              "         [0.6392157 , 0.48235294, 0.4392157 ],\n",
              "         [0.7058824 , 0.54901963, 0.53333336],\n",
              "         ...,\n",
              "         [0.47058824, 0.35686275, 0.36862746],\n",
              "         [0.33333334, 0.21176471, 0.21176471],\n",
              "         [0.3372549 , 0.20392157, 0.2       ]],\n",
              "\n",
              "        [[0.28235295, 0.17254902, 0.13333334],\n",
              "         [0.47058824, 0.3254902 , 0.28627452],\n",
              "         [0.63529414, 0.47058824, 0.42745098],\n",
              "         ...,\n",
              "         [0.38039216, 0.27450982, 0.22745098],\n",
              "         [0.32941177, 0.21568628, 0.19215687],\n",
              "         [0.32156864, 0.2       , 0.19215687]],\n",
              "\n",
              "        [[0.1764706 , 0.07843138, 0.05098039],\n",
              "         [0.28235295, 0.14117648, 0.10196079],\n",
              "         [0.4745098 , 0.30588236, 0.25882354],\n",
              "         ...,\n",
              "         [0.3882353 , 0.28235295, 0.21960784],\n",
              "         [0.3254902 , 0.21568628, 0.1882353 ],\n",
              "         [0.32941177, 0.21568628, 0.20784314]]],\n",
              "\n",
              "\n",
              "       [[[0.30980393, 0.36862746, 0.13725491],\n",
              "         [0.32156864, 0.38039216, 0.14901961],\n",
              "         [0.32156864, 0.38039216, 0.14901961],\n",
              "         ...,\n",
              "         [0.30980393, 0.27450982, 0.18431373],\n",
              "         [0.2784314 , 0.24313726, 0.16078432],\n",
              "         [0.24313726, 0.20784314, 0.12941177]],\n",
              "\n",
              "        [[0.30980393, 0.36862746, 0.13725491],\n",
              "         [0.3254902 , 0.38431373, 0.15294118],\n",
              "         [0.3254902 , 0.38431373, 0.14901961],\n",
              "         ...,\n",
              "         [0.29411766, 0.26666668, 0.1764706 ],\n",
              "         [0.26666668, 0.23921569, 0.15294118],\n",
              "         [0.23921569, 0.20784314, 0.1254902 ]],\n",
              "\n",
              "        [[0.3137255 , 0.37254903, 0.14509805],\n",
              "         [0.32941177, 0.3882353 , 0.15686275],\n",
              "         [0.32941177, 0.3882353 , 0.15686275],\n",
              "         ...,\n",
              "         [0.27058825, 0.24705882, 0.15294118],\n",
              "         [0.24313726, 0.22352941, 0.13725491],\n",
              "         [0.21960784, 0.19607843, 0.10980392]],\n",
              "\n",
              "        ...,\n",
              "\n",
              "        [[0.07843138, 0.11372549, 0.04313726],\n",
              "         [0.07450981, 0.10980392, 0.03921569],\n",
              "         [0.07058824, 0.10588235, 0.03529412],\n",
              "         ...,\n",
              "         [0.5058824 , 0.5647059 , 0.29411766],\n",
              "         [0.5137255 , 0.5647059 , 0.29411766],\n",
              "         [0.5137255 , 0.5647059 , 0.29411766]],\n",
              "\n",
              "        [[0.08627451, 0.11764706, 0.03921569],\n",
              "         [0.07843138, 0.10980392, 0.03137255],\n",
              "         [0.06666667, 0.10196079, 0.02745098],\n",
              "         ...,\n",
              "         [0.5058824 , 0.5647059 , 0.30588236],\n",
              "         [0.5137255 , 0.56078434, 0.3137255 ],\n",
              "         [0.5137255 , 0.56078434, 0.3137255 ]],\n",
              "\n",
              "        [[0.08627451, 0.11764706, 0.03529412],\n",
              "         [0.07843138, 0.10980392, 0.02745098],\n",
              "         [0.06666667, 0.10196079, 0.02352941],\n",
              "         ...,\n",
              "         [0.5058824 , 0.5647059 , 0.30980393],\n",
              "         [0.5137255 , 0.56078434, 0.31764707],\n",
              "         [0.5137255 , 0.56078434, 0.31764707]]],\n",
              "\n",
              "\n",
              "       [[[0.23921569, 0.4       , 0.16470589],\n",
              "         [0.22745098, 0.39215687, 0.14509805],\n",
              "         [0.21960784, 0.38431373, 0.13333334],\n",
              "         ...,\n",
              "         [0.54509807, 0.5647059 , 0.49803922],\n",
              "         [0.59607846, 0.6039216 , 0.5568628 ],\n",
              "         [0.63529414, 0.6431373 , 0.6117647 ]],\n",
              "\n",
              "        [[0.21960784, 0.38431373, 0.14117648],\n",
              "         [0.20392157, 0.36862746, 0.12156863],\n",
              "         [0.19607843, 0.36078432, 0.10980392],\n",
              "         ...,\n",
              "         [0.5686275 , 0.5882353 , 0.5254902 ],\n",
              "         [0.64705884, 0.654902  , 0.60784316],\n",
              "         [0.7137255 , 0.72156864, 0.6862745 ]],\n",
              "\n",
              "        [[0.22745098, 0.39215687, 0.14117648],\n",
              "         [0.21176471, 0.3764706 , 0.1254902 ],\n",
              "         [0.20392157, 0.36862746, 0.10980392],\n",
              "         ...,\n",
              "         [0.6509804 , 0.68235296, 0.60784316],\n",
              "         [0.7647059 , 0.78431374, 0.7254902 ],\n",
              "         [0.8235294 , 0.84313726, 0.7921569 ]],\n",
              "\n",
              "        ...,\n",
              "\n",
              "        [[0.4627451 , 0.68235296, 0.43529412],\n",
              "         [0.3372549 , 0.56078434, 0.27058825],\n",
              "         [0.23137255, 0.4627451 , 0.10196079],\n",
              "         ...,\n",
              "         [0.42745098, 0.6       , 0.46666667],\n",
              "         [0.43529412, 0.60784316, 0.47843137],\n",
              "         [0.4392157 , 0.6117647 , 0.48235294]],\n",
              "\n",
              "        [[0.5058824 , 0.7176471 , 0.5254902 ],\n",
              "         [0.3882353 , 0.6039216 , 0.3647059 ],\n",
              "         [0.25490198, 0.48235294, 0.16078432],\n",
              "         ...,\n",
              "         [0.43529412, 0.6039216 , 0.48235294],\n",
              "         [0.44313726, 0.6117647 , 0.5019608 ],\n",
              "         [0.44313726, 0.6117647 , 0.50980395]],\n",
              "\n",
              "        [[0.5411765 , 0.7490196 , 0.5764706 ],\n",
              "         [0.42745098, 0.6392157 , 0.41568628],\n",
              "         [0.29411766, 0.52156866, 0.20784314],\n",
              "         ...,\n",
              "         [0.4392157 , 0.6117647 , 0.49019608],\n",
              "         [0.4509804 , 0.61960787, 0.5176471 ],\n",
              "         [0.4509804 , 0.6156863 , 0.5254902 ]]]], dtype=float32)"
            ]
          },
          "metadata": {},
          "execution_count": 4
        }
      ]
    },
    {
      "cell_type": "code",
      "source": [
        "y"
      ],
      "metadata": {
        "colab": {
          "base_uri": "https://localhost:8080/"
        },
        "id": "1MSndbC0VLre",
        "outputId": "b4b924e6-3e57-4bde-acd6-93bd6c98333d"
      },
      "execution_count": 5,
      "outputs": [
        {
          "output_type": "execute_result",
          "data": {
            "text/plain": [
              "array([[0., 0., 0., ..., 0., 0., 0.],\n",
              "       [0., 0., 0., ..., 0., 0., 0.],\n",
              "       [0., 0., 0., ..., 0., 0., 0.],\n",
              "       ...,\n",
              "       [0., 0., 0., ..., 0., 0., 0.],\n",
              "       [0., 0., 0., ..., 0., 0., 0.],\n",
              "       [0., 0., 0., ..., 0., 0., 0.]])"
            ]
          },
          "metadata": {},
          "execution_count": 5
        }
      ]
    },
    {
      "cell_type": "code",
      "source": [
        "x.shape"
      ],
      "metadata": {
        "colab": {
          "base_uri": "https://localhost:8080/"
        },
        "id": "lJfjqB9BVPQJ",
        "outputId": "74d056c1-4222-4b8c-b921-1dc54508f2fa"
      },
      "execution_count": 6,
      "outputs": [
        {
          "output_type": "execute_result",
          "data": {
            "text/plain": [
              "(1360, 224, 224, 3)"
            ]
          },
          "metadata": {},
          "execution_count": 6
        }
      ]
    },
    {
      "cell_type": "code",
      "source": [
        "y.shape"
      ],
      "metadata": {
        "colab": {
          "base_uri": "https://localhost:8080/"
        },
        "id": "Mtpnmi8zVWjJ",
        "outputId": "61c1d55c-2e0e-40c4-b390-3255d198e368"
      },
      "execution_count": 7,
      "outputs": [
        {
          "output_type": "execute_result",
          "data": {
            "text/plain": [
              "(1360, 17)"
            ]
          },
          "metadata": {},
          "execution_count": 7
        }
      ]
    },
    {
      "cell_type": "code",
      "source": [
        "# Create a sequential model\n",
        "model = Sequential()\n",
        "\n",
        "# 1st Convolutional Layer\n",
        "model.add(Conv2D(filters=96, input_shape=(224,224,3), kernel_size=(11,11), strides=(4,4), padding='valid'))\n",
        "model.add(Activation('relu'))\n",
        "\n",
        "# Pooling \n",
        "model.add(MaxPooling2D(pool_size=(3,3), strides=(2,2), padding='valid'))\n",
        "# Batch Normalisation before passing it to the next layer\n",
        "model.add(BatchNormalization())\n",
        "\n",
        "# 2nd Convolutional Layer\n",
        "model.add(Conv2D(filters=256, kernel_size=(5,5), strides=(1,1), padding='same'))\n",
        "model.add(Activation('relu'))\n",
        "\n",
        "# Pooling\n",
        "model.add(MaxPooling2D(pool_size=(3,3), strides=(2,2), padding='valid'))\n",
        "# Batch Normalisation\n",
        "model.add(BatchNormalization())\n",
        "\n",
        "\n",
        "\n",
        "# 3rd Convolutional Layer\n",
        "model.add(Conv2D(filters=384, kernel_size=(3,3), strides=(1,1), padding='valid'))\n",
        "model.add(Activation('relu'))\n",
        "# Batch Normalisation\n",
        "model.add(BatchNormalization())\n",
        "\n",
        "# 4th Convolutional Layer\n",
        "model.add(Conv2D(filters=384, kernel_size=(3,3), strides=(1,1), padding='valid'))\n",
        "model.add(Activation('relu'))\n",
        "# Batch Normalisation\n",
        "model.add(BatchNormalization())\n",
        "\n",
        "\n",
        "# 5th Convolutional Layer\n",
        "model.add(Conv2D(filters=256, kernel_size=(3,3), strides=(1,1), padding='valid'))\n",
        "model.add(Activation('relu'))\n",
        "\n",
        "\n",
        "# Pooling\n",
        "model.add(MaxPooling2D(pool_size=(3,3), strides=(2,2), padding='valid'))\n",
        "# Batch Normalisation\n",
        "model.add(BatchNormalization())\n",
        "\n",
        "\n",
        "# Passing it to a dense layer\n",
        "model.add(Flatten())\n",
        "\n",
        "# 1st Dense Layer\n",
        "model.add(Dense(4096, input_shape=(224*224*3,)))\n",
        "model.add(Activation('relu'))\n",
        "# Add Dropout to prevent overfitting\n",
        "model.add(Dropout(0.4))\n",
        "# Batch Normalisation\n",
        "model.add(BatchNormalization())\n",
        "\n",
        "# 2nd Dense Layer\n",
        "model.add(Dense(4096))\n",
        "model.add(Activation('relu'))\n",
        "# Add Dropout\n",
        "model.add(Dropout(0.4))\n",
        "# Batch Normalisation\n",
        "model.add(BatchNormalization())\n",
        "\n",
        "# Output Layer\n",
        "model.add(Dense(17))\n",
        "model.add(Activation('softmax'))\n",
        "\n",
        "model.summary()"
      ],
      "metadata": {
        "colab": {
          "base_uri": "https://localhost:8080/"
        },
        "id": "TJkWHa87VbWm",
        "outputId": "5d7b4d2c-32e7-4240-8a02-32e56872f4e4"
      },
      "execution_count": 8,
      "outputs": [
        {
          "output_type": "stream",
          "name": "stderr",
          "text": [
            "WARNING:tensorflow:From /usr/local/lib/python3.7/dist-packages/keras/layers/normalization/batch_normalization.py:514: _colocate_with (from tensorflow.python.framework.ops) is deprecated and will be removed in a future version.\n",
            "Instructions for updating:\n",
            "Colocations handled automatically by placer.\n"
          ]
        },
        {
          "output_type": "stream",
          "name": "stdout",
          "text": [
            "Model: \"sequential\"\n",
            "_________________________________________________________________\n",
            " Layer (type)                Output Shape              Param #   \n",
            "=================================================================\n",
            " conv2d (Conv2D)             (None, 54, 54, 96)        34944     \n",
            "                                                                 \n",
            " activation (Activation)     (None, 54, 54, 96)        0         \n",
            "                                                                 \n",
            " max_pooling2d (MaxPooling2D  (None, 26, 26, 96)       0         \n",
            " )                                                               \n",
            "                                                                 \n",
            " batch_normalization (BatchN  (None, 26, 26, 96)       384       \n",
            " ormalization)                                                   \n",
            "                                                                 \n",
            " conv2d_1 (Conv2D)           (None, 26, 26, 256)       614656    \n",
            "                                                                 \n",
            " activation_1 (Activation)   (None, 26, 26, 256)       0         \n",
            "                                                                 \n",
            " max_pooling2d_1 (MaxPooling  (None, 12, 12, 256)      0         \n",
            " 2D)                                                             \n",
            "                                                                 \n",
            " batch_normalization_1 (Batc  (None, 12, 12, 256)      1024      \n",
            " hNormalization)                                                 \n",
            "                                                                 \n",
            " conv2d_2 (Conv2D)           (None, 10, 10, 384)       885120    \n",
            "                                                                 \n",
            " activation_2 (Activation)   (None, 10, 10, 384)       0         \n",
            "                                                                 \n",
            " batch_normalization_2 (Batc  (None, 10, 10, 384)      1536      \n",
            " hNormalization)                                                 \n",
            "                                                                 \n",
            " conv2d_3 (Conv2D)           (None, 8, 8, 384)         1327488   \n",
            "                                                                 \n",
            " activation_3 (Activation)   (None, 8, 8, 384)         0         \n",
            "                                                                 \n",
            " batch_normalization_3 (Batc  (None, 8, 8, 384)        1536      \n",
            " hNormalization)                                                 \n",
            "                                                                 \n",
            " conv2d_4 (Conv2D)           (None, 6, 6, 256)         884992    \n",
            "                                                                 \n",
            " activation_4 (Activation)   (None, 6, 6, 256)         0         \n",
            "                                                                 \n",
            " max_pooling2d_2 (MaxPooling  (None, 2, 2, 256)        0         \n",
            " 2D)                                                             \n",
            "                                                                 \n",
            " batch_normalization_4 (Batc  (None, 2, 2, 256)        1024      \n",
            " hNormalization)                                                 \n",
            "                                                                 \n",
            " flatten (Flatten)           (None, 1024)              0         \n",
            "                                                                 \n",
            " dense (Dense)               (None, 4096)              4198400   \n",
            "                                                                 \n",
            " activation_5 (Activation)   (None, 4096)              0         \n",
            "                                                                 \n",
            " dropout (Dropout)           (None, 4096)              0         \n",
            "                                                                 \n",
            " batch_normalization_5 (Batc  (None, 4096)             16384     \n",
            " hNormalization)                                                 \n",
            "                                                                 \n",
            " dense_1 (Dense)             (None, 4096)              16781312  \n",
            "                                                                 \n",
            " activation_6 (Activation)   (None, 4096)              0         \n",
            "                                                                 \n",
            " dropout_1 (Dropout)         (None, 4096)              0         \n",
            "                                                                 \n",
            " batch_normalization_6 (Batc  (None, 4096)             16384     \n",
            " hNormalization)                                                 \n",
            "                                                                 \n",
            " dense_2 (Dense)             (None, 17)                69649     \n",
            "                                                                 \n",
            " activation_7 (Activation)   (None, 17)                0         \n",
            "                                                                 \n",
            "=================================================================\n",
            "Total params: 24,834,833\n",
            "Trainable params: 24,815,697\n",
            "Non-trainable params: 19,136\n",
            "_________________________________________________________________\n"
          ]
        }
      ]
    },
    {
      "cell_type": "code",
      "source": [
        "# Compile \n",
        "opt = tf.optimizers.Adam(learning_rate = 0.01)\n",
        "model.compile(loss='categorical_crossentropy', optimizer=opt, metrics=['accuracy'])"
      ],
      "metadata": {
        "id": "_GuV-mjL-lUi"
      },
      "execution_count": 9,
      "outputs": []
    },
    {
      "cell_type": "code",
      "source": [
        "# Train\n",
        "model.fit(x, y, batch_size=64, epochs=10, verbose=1,validation_split=0.2, shuffle=True)"
      ],
      "metadata": {
        "colab": {
          "base_uri": "https://localhost:8080/"
        },
        "id": "WqsmKhUh-5ZN",
        "outputId": "537f0bc0-5f7b-41f5-f65d-2fde41675aa2"
      },
      "execution_count": 11,
      "outputs": [
        {
          "output_type": "stream",
          "name": "stdout",
          "text": [
            "Train on 1088 samples, validate on 272 samples\n",
            "Epoch 1/10\n",
            "1088/1088 [==============================] - 1s 1ms/sample - loss: 4.0467 - acc: 0.3686 - val_loss: 487.7512 - val_acc: 0.0699\n",
            "Epoch 2/10\n",
            "1088/1088 [==============================] - 1s 1ms/sample - loss: 3.8110 - acc: 0.3382 - val_loss: 133.3191 - val_acc: 0.1581\n",
            "Epoch 3/10\n",
            "1088/1088 [==============================] - 1s 1ms/sample - loss: 3.0686 - acc: 0.3971 - val_loss: 37.9460 - val_acc: 0.2574\n",
            "Epoch 4/10\n",
            "1088/1088 [==============================] - 1s 1ms/sample - loss: 3.1378 - acc: 0.4145 - val_loss: 33.5172 - val_acc: 0.1912\n",
            "Epoch 5/10\n",
            "1088/1088 [==============================] - 1s 1ms/sample - loss: 3.0802 - acc: 0.4145 - val_loss: 14.6394 - val_acc: 0.3015\n",
            "Epoch 6/10\n",
            "1088/1088 [==============================] - 1s 1ms/sample - loss: 3.0141 - acc: 0.4219 - val_loss: 13.9166 - val_acc: 0.2684\n",
            "Epoch 7/10\n",
            "1088/1088 [==============================] - 1s 1ms/sample - loss: 3.0584 - acc: 0.4265 - val_loss: 27.2028 - val_acc: 0.2243\n",
            "Epoch 8/10\n",
            "1088/1088 [==============================] - 1s 1ms/sample - loss: 3.7263 - acc: 0.3686 - val_loss: 64.1086 - val_acc: 0.1471\n",
            "Epoch 9/10\n",
            "1088/1088 [==============================] - 1s 1ms/sample - loss: 3.1667 - acc: 0.3732 - val_loss: 10.7052 - val_acc: 0.2279\n",
            "Epoch 10/10\n",
            "1088/1088 [==============================] - 1s 1ms/sample - loss: 2.8387 - acc: 0.3998 - val_loss: 10.0728 - val_acc: 0.1912\n"
          ]
        },
        {
          "output_type": "execute_result",
          "data": {
            "text/plain": [
              "<keras.callbacks.History at 0x7fece03bfb90>"
            ]
          },
          "metadata": {},
          "execution_count": 11
        }
      ]
    },
    {
      "cell_type": "code",
      "source": [],
      "metadata": {
        "id": "lDj253Qw-9_S"
      },
      "execution_count": null,
      "outputs": []
    }
  ]
}